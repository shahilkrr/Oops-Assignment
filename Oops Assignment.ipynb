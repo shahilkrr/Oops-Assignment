{
 "cells": [
  {
   "cell_type": "code",
   "execution_count": 1,
   "id": "646f8c08-de93-4202-9d7f-c37c70b7f3c2",
   "metadata": {},
   "outputs": [],
   "source": [
    "#Question 1"
   ]
  },
  {
   "cell_type": "markdown",
   "id": "e2fedf26-7fe8-416e-905b-672e9bca9094",
   "metadata": {},
   "source": [
    "Abstraction - It is used to hide unnecessary information and display necessary information to the users interacting.\n",
    "Example - Person driving a car but do not know how the car mechanism works, only knows what is the necessary for him that is driving a car."
   ]
  },
  {
   "cell_type": "code",
   "execution_count": 2,
   "id": "ffd99f78-23d6-42e6-badc-9331b4ffb6ee",
   "metadata": {},
   "outputs": [],
   "source": [
    "#Question 2"
   ]
  },
  {
   "cell_type": "markdown",
   "id": "e278a5e8-921e-43df-bcc5-700b804f5a4e",
   "metadata": {},
   "source": [
    "Abstraction - It is used for hiding the unwanted data and giving relevant data. Abstraction lets you focus on what the object does instead of how it does it."
   ]
  },
  {
   "cell_type": "markdown",
   "id": "359d658e-912f-40ec-9464-f6ae26ebe5f5",
   "metadata": {},
   "source": [
    "Encapsulation - It means hiding the code and data into a single unit to protect the data from outside world. Hiding the internal details or mechanics of how an object does something."
   ]
  },
  {
   "cell_type": "code",
   "execution_count": null,
   "id": "a189bfcc-239c-4ad4-b932-f7f7ad5adb47",
   "metadata": {},
   "outputs": [],
   "source": [
    "#Question 3"
   ]
  },
  {
   "cell_type": "markdown",
   "id": "f3e178f6-cdb9-40fd-9a64-918f343e1939",
   "metadata": {},
   "source": [
    "The ABC module provides the infrastructure for defining abstract base classes. It is used to create an abstract class."
   ]
  },
  {
   "cell_type": "code",
   "execution_count": null,
   "id": "7e5835c8-b54d-4aef-803a-687d3738011a",
   "metadata": {},
   "outputs": [],
   "source": [
    "#Question 4"
   ]
  },
  {
   "cell_type": "markdown",
   "id": "05bf3d89-20e4-42cc-857c-af21e0ec3188",
   "metadata": {},
   "source": [
    "We can achieve abstraction by using abstract class and interface."
   ]
  },
  {
   "cell_type": "code",
   "execution_count": null,
   "id": "7a0c23f5-bdf9-42a2-9d64-f9652b386e20",
   "metadata": {},
   "outputs": [],
   "source": [
    "#Question 5"
   ]
  },
  {
   "cell_type": "markdown",
   "id": "f8b7e7d3-68a3-4125-9a18-9fc853c0a320",
   "metadata": {},
   "source": [
    "We cannot create an instance of an abstract class. It shows error because abstract class has sub-classed and it provides implementations for all of the abstract methods in its parent class."
   ]
  },
  {
   "cell_type": "code",
   "execution_count": null,
   "id": "926d9c33-2fc5-4863-b9b3-e256680b29f1",
   "metadata": {},
   "outputs": [],
   "source": []
  }
 ],
 "metadata": {
  "kernelspec": {
   "display_name": "Python 3 (ipykernel)",
   "language": "python",
   "name": "python3"
  },
  "language_info": {
   "codemirror_mode": {
    "name": "ipython",
    "version": 3
   },
   "file_extension": ".py",
   "mimetype": "text/x-python",
   "name": "python",
   "nbconvert_exporter": "python",
   "pygments_lexer": "ipython3",
   "version": "3.10.8"
  }
 },
 "nbformat": 4,
 "nbformat_minor": 5
}
